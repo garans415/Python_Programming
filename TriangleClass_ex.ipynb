{
  "nbformat": 4,
  "nbformat_minor": 0,
  "metadata": {
    "colab": {
      "name": "TriangleClass_ex.ipynb",
      "provenance": [],
      "collapsed_sections": [],
      "include_colab_link": true
    },
    "kernelspec": {
      "name": "python3",
      "display_name": "Python 3"
    }
  },
  "cells": [
    {
      "cell_type": "markdown",
      "metadata": {
        "id": "view-in-github",
        "colab_type": "text"
      },
      "source": [
        "<a href=\"https://colab.research.google.com/github/garans415/Python_Programming/blob/master/TriangleClass_ex.ipynb\" target=\"_parent\"><img src=\"https://colab.research.google.com/assets/colab-badge.svg\" alt=\"Open In Colab\"/></a>"
      ]
    },
    {
      "cell_type": "code",
      "metadata": {
        "id": "Eir-LJud820e",
        "colab_type": "code",
        "colab": {
          "base_uri": "https://localhost:8080/",
          "height": 119
        },
        "outputId": "ea6b35cf-0d80-460e-d67f-f73cb012ec9d"
      },
      "source": [
        "import math\n",
        "\n",
        "class Triangle():\n",
        "\n",
        "  def __init__(self,opposite=3,adjacent=4):\n",
        "    self.opposite = opposite\n",
        "    self.adjacent = adjacent\n",
        "\n",
        "  def get_hypotenuse(self):\n",
        "    return math.hypot(self.opposite, self.adjacent)\n",
        "\n",
        "  def get_theta(self):\n",
        "    return math.atan2(self.opposite, self.adjacent)\n",
        "\n",
        "opposite_side = input('What is the length of the opposite side of the triangle: ')\n",
        "adjacent_side = input('What is the length of the adjacent side of the triangle: ')\n",
        "\n",
        "the_hypo = Triangle(float(opposite_side),float(adjacent_side))\n",
        "theta = Triangle(float(opposite_side), float(adjacent_side))\n",
        "\n",
        "theta_degree = math.degrees(theta.get_theta())\n",
        "\n",
        "print('The hypotenuse length is equal to {}'.format(the_hypo.get_hypotenuse()))\n",
        "print('The angle Theta in radians is equal to {}'.format(theta.get_theta()))\n",
        "print('The angle converted from radians to degrees equals: ', end=\"\")\n",
        "print((math.degrees(theta.get_theta())))\n",
        "print(theta_degree)\n",
        "\n",
        "\n"
      ],
      "execution_count": 30,
      "outputs": [
        {
          "output_type": "stream",
          "text": [
            "What is the length of the opposite side of the triangle: 6\n",
            "What is the length of the adjacent side of the triangle: 8\n",
            "The hypotenuse length is equal to 10.0\n",
            "The angle Theta in radians is equal to 0.6435011087932844\n",
            "The angle converted from radians to degrees equals: 36.86989764584402\n",
            "36.86989764584402\n"
          ],
          "name": "stdout"
        }
      ]
    }
  ]
}